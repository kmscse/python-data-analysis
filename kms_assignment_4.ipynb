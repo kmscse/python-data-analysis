{
 "cells": [
  {
   "cell_type": "markdown",
   "id": "0737d1bc",
   "metadata": {},
   "source": [
    "<div style=\"text-align:center; font-weight: bold; font-size: 25px; font-family: 'Times New Roman', Times, serif;\"><span style=\"border-bottom: 3px double black;\">Assignment IV</span></div> <br>\n",
    "\n",
    "<span style=\"font-family: 'Times New Roman'; font-weight: bold; font-size: 20px;\">\n",
    "1. You are tasked with creating a program that determines the eligibility of users for a social media platform based on certain criteria. Write a Python program that takes two inputs from the user: their age and the number of posts they have made. Implement the following conditions:\n",
    "</span><br><br>\n",
    "\n",
    "<span style=\"font-family: 'Times New Roman'; font-size: 18px;\">\n",
    "&nbsp;&nbsp;&nbsp;&nbsp;&nbsp;(a) If the user is 18 years old or older and has made at least 5 posts, print “Welcome to the platform!”.\n",
    "</span><br>\n",
    "<span style=\"font-family: 'Times New Roman'; font-size: 18px;\">\n",
    "&nbsp;&nbsp;&nbsp;&nbsp;&nbsp;(b) If the user is between 13 and 17 years old (inclusive) and has made at least 3 points, print “Almost there! Waiting for approval”.\n",
    "</span><br>\n",
    "<span style=\"font-family: 'Times New Roman'; font-size: 18px;\">\n",
    "&nbsp;&nbsp;&nbsp;&nbsp;&nbsp;(c) If the user is younger than 13, print “Sorry, you must be at least 13 years old to join”.\n",
    "</span><br>\n",
    "<span style=\"font-family: 'Times New Roman'; font-size: 18px;\">\n",
    "&nbsp;&nbsp;&nbsp;&nbsp;&nbsp;(d) If the user meets none of the above conditions, print “Keep posting and growing, your time will come!”.\n",
    "</span><br>\n",
    "\n",
    "<p style=\"font-family: 'Times New Roman'; font-size: 18px;\">\n",
    "Your program should also perform input validation to ensure the entered age is a positive integer and the number of posts is a non-negative integer. <br>\n",
    "Please write the Python program to implement the above requirements and conditions. Make sure to include comments to explain the purpose of each code section.\n",
    "</p>"
   ]
  },
  {
   "cell_type": "code",
   "execution_count": 3,
   "id": "556b1372",
   "metadata": {},
   "outputs": [
    {
     "name": "stdout",
     "output_type": "stream",
     "text": [
      "Enter your age: 25\n",
      "Enter the number of posts you have made: 0\n",
      "Keep posting and growing, your time will come!\n"
     ]
    }
   ],
   "source": [
    "def main():\n",
    "    # Input validation for age\n",
    "    age_str = input(\"Enter your age: \")\n",
    "    if not age_str.isdigit() or int(age_str) <= 0:\n",
    "        print(\"Invalid age. Please enter a positive integer.\")\n",
    "        return\n",
    "\n",
    "    age = int(age_str)\n",
    "\n",
    "    # Input validation for number of posts\n",
    "    posts_str = input(\"Enter the number of posts you have made: \")\n",
    "    if not posts_str.isdigit() or int(posts_str) < 0:\n",
    "        print(\"Invalid number of posts. Please enter a non-negative integer.\")\n",
    "        return\n",
    "\n",
    "    posts = int(posts_str)\n",
    "\n",
    "    # Determine eligibility based on conditions\n",
    "    if age >= 18 and posts >= 5:\n",
    "        print(\"Welcome to the platform!\")\n",
    "    elif 13 <= age <= 17 and posts >= 3:\n",
    "        print(\"Almost there! Waiting for approval.\")\n",
    "    elif age < 13:\n",
    "        print(\"Sorry, you must be at least 13 years old to join.\")\n",
    "    else:\n",
    "        print(\"Keep posting and growing, your time will come!\")\n",
    "\n",
    "# Call the main function\n",
    "main()"
   ]
  },
  {
   "cell_type": "markdown",
   "id": "7c72114f",
   "metadata": {},
   "source": [
    "<hr style = \"border: 0.5px solid black;\">"
   ]
  },
  {
   "cell_type": "markdown",
   "id": "239675ff",
   "metadata": {},
   "source": [
    "<span style=\"font-family: 'Times New Roman'; font-weight: bold; font-size: 20px;\">\n",
    "2. You are tasked with creating a program that assists a user in deciding the appropriate mode of transportation based on their location, time of day, and weather conditions. Write a Python program that takes inputs for the user’s current location (indoor or outdoor), the time of day (morning, afternoon, evening), and the weather conditions (sunny, rainy, snowy). Implement the following conditions:\n",
    "</span><br><br>\n",
    "\n",
    "<div>\n",
    "    <ul style=\"font-family: 'Times New Roman'; font-size: 18px\">\n",
    "    <li>If the user is indoors, regardless of the time of day or weather conditions, suggest taking a walk or using public transportation.</li>\n",
    "    <li>If the user is outdoors:\n",
    "        <ul style=\"list-style-type: circle; font-family: 'Times New Roman';\">\n",
    "            <li>If it’s morning and the weather is sunny, suggest riding a bicycle.</li>\n",
    "            <li>If it’s afternoon and the weather is rainy, suggest taking a taxi or rideshare service.</li>\n",
    "            <li>If it’s evening and the weather is snowy, suggest driving a car.</li>\n",
    "        </ul>\n",
    "        </li>\n",
    "    </ul>\n",
    "</div>\n",
    "\n",
    "<p style=\"font-family: 'Times New Roman'; font-size: 18px;\">\n",
    "Your program should provide appropriate suggestions based on the conditions provided by the user. <br>\n",
    "Please write the Python program to implement the above requirements and conditions. Make sure to include comments to explain the purpose of each code section.\n",
    "</p>"
   ]
  },
  {
   "cell_type": "code",
   "execution_count": 4,
   "id": "b8fa3266",
   "metadata": {},
   "outputs": [
    {
     "name": "stdout",
     "output_type": "stream",
     "text": [
      "Enter your current location (indoor or outdoor): indoor\n",
      "Enter the time of day (morning, afternoon, evening): morning\n",
      "Enter the weather conditions (sunny, rainy, snowy): rainy\n",
      "Regardless of the time of day or weather conditions, you can take a walk or use public transportation.\n"
     ]
    }
   ],
   "source": [
    "def suggest_transportation(location, time_of_day, weather_conditions):\n",
    "    # Check if the user is indoors\n",
    "    if location.lower() == \"indoor\":\n",
    "        print(\"Regardless of the time of day or weather conditions, you can take a walk or use public transportation.\")\n",
    "    # Check if the user is outdoors\n",
    "    elif location.lower() == \"outdoor\":\n",
    "        # Check conditions based on the time of day and weather\n",
    "        if time_of_day.lower() == \"morning\" and weather_conditions.lower() == \"sunny\":\n",
    "            print(\"In the morning and sunny weather, you may consider riding a bicycle.\")\n",
    "        elif time_of_day.lower() == \"afternoon\" and weather_conditions.lower() == \"rainy\":\n",
    "            print(\"In the afternoon and rainy weather, it's suggested to take a taxi or rideshare service.\")\n",
    "        elif time_of_day.lower() == \"evening\" and weather_conditions.lower() == \"snowy\":\n",
    "            print(\"In the evening and snowy weather, consider driving a car.\")\n",
    "        else:\n",
    "            print(\"No specific suggestion for the given conditions.\")\n",
    "    else:\n",
    "        print(\"Invalid location. Please enter 'indoor' or 'outdoor'.\")\n",
    "\n",
    "def main():\n",
    "    # Get inputs from the user\n",
    "    location = input(\"Enter your current location (indoor or outdoor): \")\n",
    "    time_of_day = input(\"Enter the time of day (morning, afternoon, evening): \")\n",
    "    weather_conditions = input(\"Enter the weather conditions (sunny, rainy, snowy): \")\n",
    "\n",
    "    # Provide transportation suggestions based on user inputs\n",
    "    suggest_transportation(location, time_of_day, weather_conditions)\n",
    "\n",
    "# Call the main function\n",
    "main()"
   ]
  },
  {
   "cell_type": "markdown",
   "id": "087edbb0",
   "metadata": {},
   "source": [
    "<hr style = \"border: 0.5px solid black;\">"
   ]
  },
  {
   "cell_type": "markdown",
   "id": "636055e7",
   "metadata": {},
   "source": [
    "<span style=\"font-family: 'Times New Roman'; font-weight: bold; font-size: 20px;\">\n",
    "3. Write a Python program that implements the calculation of total resistance <i>R<sub>total</sub></i> based on user input for the configuration of the circuit (series or parallel) and the values of two resistances (<i>R<sub>1</sub></i> and <i>R<sub>2</sub></i>). Utilize a function named Resistance_Func to perform the total resistance <i>R<sub>total</sub></i> for series resistance or parallel resistance calculation using conditional statements (<span style=\"color: blue;\">if,else</span>). The function should take three parameters: <i>R<sub>1</sub></i>, <i>R<sub>2</sub></i> and the circuit configuration (series or parallel).\n",
    "</span><br><br>\n",
    "\n",
    "<span style=\"font-family: 'Times New Roman'; font-size: 18px;\">\n",
    "The resistance equations of series and parallel are as follows:\n",
    "</span><br>\n",
    "<span style=\"font-family: 'Times New Roman'; font-size: 18px;\">\n",
    "&nbsp;&nbsp;&nbsp;&nbsp;&nbsp;&nbsp;&nbsp;&nbsp;&nbsp;&nbsp;&nbsp;&nbsp;&nbsp;&nbsp;&nbsp;&nbsp;&nbsp;Series resistance,\n",
    "</span><br>\n",
    "$$\n",
    "R_{\\text{series}} = R_1 + R_2 \\\n",
    "$$\n",
    "\n",
    "<span style=\"font-family: 'Times New Roman'; font-size: 18px;\">\n",
    "&nbsp;&nbsp;&nbsp;&nbsp;&nbsp;&nbsp;&nbsp;&nbsp;&nbsp;&nbsp;&nbsp;&nbsp;&nbsp;&nbsp;&nbsp;&nbsp;&nbsp;Parallel resistance,\n",
    "</span><br>\n",
    "$$\n",
    "R_{\\text{parallel}} = \\frac{{R_1 \\times R_2}}{{(R_1 + R_2)}} \\\n",
    "$$"
   ]
  },
  {
   "cell_type": "code",
   "execution_count": 5,
   "id": "fc4d301f",
   "metadata": {},
   "outputs": [
    {
     "name": "stdout",
     "output_type": "stream",
     "text": [
      "Enter the value of resistance R1: 10\n",
      "Enter the value of resistance R2: 25\n",
      "Enter the circuit configuration (series or parallel): series\n",
      "The total resistance (series) is: 35.0 ohms.\n"
     ]
    }
   ],
   "source": [
    "def resistance_func(R1, R2, circuit_configuration):\n",
    "    # Perform the total resistance calculation based on the circuit configuration\n",
    "    if circuit_configuration.lower() == \"series\":\n",
    "        R_total = R1 + R2\n",
    "    elif circuit_configuration.lower() == \"parallel\":\n",
    "        R_total = (R1 * R2) / (R1 + R2)\n",
    "    else:\n",
    "        print(\"Invalid circuit configuration. Please enter 'series' or 'parallel'.\")\n",
    "        return None\n",
    "    \n",
    "    return R_total\n",
    "\n",
    "def main():\n",
    "    # Get inputs from the user\n",
    "    R1 = float(input(\"Enter the value of resistance R1: \"))\n",
    "    R2 = float(input(\"Enter the value of resistance R2: \"))\n",
    "    circuit_configuration = input(\"Enter the circuit configuration (series or parallel): \")\n",
    "\n",
    "    # Calculate total resistance using the Resistance_Func function\n",
    "    total_resistance = resistance_func(R1, R2, circuit_configuration)\n",
    "\n",
    "    # Display the result if the calculation was successful\n",
    "    if total_resistance is not None:\n",
    "        print(f\"The total resistance ({circuit_configuration}) is: {total_resistance} ohms.\")\n",
    "\n",
    "# Call the main function\n",
    "main()"
   ]
  },
  {
   "cell_type": "markdown",
   "id": "d809877c",
   "metadata": {},
   "source": [
    "<hr style = \"border: 0.5px solid black;\">"
   ]
  },
  {
   "cell_type": "markdown",
   "id": "1b4f180e",
   "metadata": {},
   "source": [
    "<span style=\"font-family: 'Times New Roman'; font-weight: bold; font-size: 20px;\">\n",
    "4. Write a program for a function called brick_volume that takes three arguments: length, width, and height, and returns the volume of a brick with the given dimensions: length, width and height of a brick are 25cm, 12cm and 7cm using both <span style=\"color: blue;\">def</span> function and <span style=\"color: blue;\">lambda</span> function. \n",
    "</span><br><br>\n",
    " \n",
    "<span style=\"font-family: 'Times New Roman'; font-size: 18px;\">\n",
    "The formula to calculate the volume of a brick is given by:\n",
    "</span><br>\n",
    "\n",
    "$$\n",
    "\t\t\t \\text{Volume} = \\text{length} \\times \\text{width} \\times \\text{height}\n",
    "$$"
   ]
  },
  {
   "cell_type": "code",
   "execution_count": 7,
   "id": "bc191fe9",
   "metadata": {},
   "outputs": [
    {
     "name": "stdout",
     "output_type": "stream",
     "text": [
      "The volume using def function is: 2100 cm^3\n",
      "The volume using lambda function is: 2100 cm^3\n"
     ]
    }
   ],
   "source": [
    "def brick_volume_def(length, width, height):\n",
    "    # Calculate the volume using the given formula\n",
    "    volume = length * width * height\n",
    "    return volume\n",
    "\n",
    "# Test the def function\n",
    "length, width, height = 25, 12, 7\n",
    "result_def = brick_volume_def(length, width, height)\n",
    "print(f\"The volume using def function is: {result_def} cm^3\")\n",
    "\n",
    "# Define the lambda function for brick_volume\n",
    "brick_volume_lambda = lambda length, width, height: length * width * height\n",
    "\n",
    "# Test the lambda function\n",
    "result_lambda = brick_volume_lambda(length, width, height)\n",
    "print(f\"The volume using lambda function is: {result_lambda} cm^3\")"
   ]
  },
  {
   "cell_type": "markdown",
   "id": "e95dbcd4",
   "metadata": {},
   "source": [
    "<hr style = \"border: 0.5px solid black;\">"
   ]
  },
  {
   "cell_type": "markdown",
   "id": "7ae00177",
   "metadata": {},
   "source": [
    "<span style=\"font-family: 'Times New Roman'; font-weight: bold; font-size: 20px;\">\n",
    "5. Given a line of text as input the number of characters excluding spaces, periods, exclamation points, or commas.\n",
    "</span><br><br>\n",
    "\n",
    "<span style=\"font-family: 'Times New Roman'; font-size: 18px;\">\n",
    "If the input is: “Listen, Mr. Jones, calm down.” <br>\n",
    "The output is: 21 <br><br>\n",
    "<strong>Note</strong>: Account for all characters that aren’t spaces, periods, exclamation points or commas.\n",
    "</span>"
   ]
  },
  {
   "cell_type": "code",
   "execution_count": 8,
   "id": "ce97a176",
   "metadata": {},
   "outputs": [
    {
     "name": "stdout",
     "output_type": "stream",
     "text": [
      "The number of characters excluding spaces, periods, exclamation points, and commas is: 21\n"
     ]
    }
   ],
   "source": [
    "def count_characters(input_text):\n",
    "    # Define a set of characters to exclude\n",
    "    exclude_characters = {' ', '.', '!', ','}\n",
    "\n",
    "    # Count characters excluding the specified set\n",
    "    count = sum(1 for char in input_text if char not in exclude_characters)\n",
    "\n",
    "    return count\n",
    "\n",
    "# Test the function with the given input\n",
    "input_text = \"Listen, Mr. Jones, calm down.\"\n",
    "result = count_characters(input_text)\n",
    "print(f\"The number of characters excluding spaces, periods, exclamation points, and commas is: {result}\")"
   ]
  },
  {
   "cell_type": "markdown",
   "id": "fbf46d0d",
   "metadata": {},
   "source": [
    "<hr style = \"border: 0.5px solid black;\">"
   ]
  },
  {
   "cell_type": "markdown",
   "id": "4bad3f3a",
   "metadata": {},
   "source": [
    "<span style=\"font-family: 'Times New Roman'; font-weight: bold; font-size: 20px;\">\n",
    "6. Write a python function larger (L) that accepts a list which contains a nested list of integers. It should return a list of integers containing the largest of each inner (nested) list.\n",
    "</span><br><br>\n",
    "\n",
    "<span style=\"font-family: 'Times New Roman'; font-size: 18px;\">\n",
    "Sample input: [[2,3,1], [4,5], [6,1,3,4]] <br>\n",
    "Sample output: [3,5,6]\n",
    "</span>"
   ]
  },
  {
   "cell_type": "code",
   "execution_count": 9,
   "id": "6299cc76",
   "metadata": {},
   "outputs": [
    {
     "name": "stdout",
     "output_type": "stream",
     "text": [
      "The result is: [3, 5, 6]\n"
     ]
    }
   ],
   "source": [
    "def larger(L):\n",
    "    # Initialize an empty list to store the largest elements\n",
    "    result = []\n",
    "\n",
    "    # Iterate over each inner list in the input list\n",
    "    for inner_list in L:\n",
    "        # Find the largest element in the inner list and append it to the result list\n",
    "        max_element = max(inner_list)\n",
    "        result.append(max_element)\n",
    "\n",
    "    return result\n",
    "\n",
    "# Test the function with the sample input\n",
    "sample_input = [[2, 3, 1], [4, 5], [6, 1, 3, 4]]\n",
    "output = larger(sample_input)\n",
    "print(f\"The result is: {output}\")"
   ]
  },
  {
   "cell_type": "markdown",
   "id": "a2ebef18",
   "metadata": {},
   "source": [
    "<hr style = \"border: 0.5px solid black;\">"
   ]
  }
 ],
 "metadata": {
  "kernelspec": {
   "display_name": "Python 3 (ipykernel)",
   "language": "python",
   "name": "python3"
  },
  "language_info": {
   "codemirror_mode": {
    "name": "ipython",
    "version": 3
   },
   "file_extension": ".py",
   "mimetype": "text/x-python",
   "name": "python",
   "nbconvert_exporter": "python",
   "pygments_lexer": "ipython3",
   "version": "3.11.5"
  }
 },
 "nbformat": 4,
 "nbformat_minor": 5
}
