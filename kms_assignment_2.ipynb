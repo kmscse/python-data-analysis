{
 "cells": [
  {
   "cell_type": "markdown",
   "id": "0a06e8ff",
   "metadata": {},
   "source": [
    "<div style=\"text-align:center; font-weight: bold; font-size: 25px; font-family: 'Times New Roman', Times, serif;\"><span style=\"border-bottom: 3px double black;\">Assignment II</span></div>\n",
    "\n",
    "<span style=\"font-family: 'Times New Roman'; font-weight: bold; font-size: 20px;\">1. Write a Python script that demonstrates how to manipulate a list of strings called <strong>EUlist</strong> using indexing and copying methods.</span>\n",
    "\n",
    "<span style=\"font-family: 'Times New Roman'; font-size: 15px;\">You are given an EU countries list:</span></br>\n",
    "```python\n",
    "EUlist = [['Austria', 'Belgium', 'Bulgaria', 'Croatia'],\n",
    "          ['Denmark', 'Finland', 'France', 'Germany'],\n",
    "          ['Greece', 'Hungary', 'Ireland', 'Italy']]\n",
    "```\n",
    "<span style=\"font-family: 'Times New Roman'; font-size: 15px;\">(a) Print and Replace the string 'Hungary' in the EUlist list with 'Spain'.</span></br>\n",
    "<span style=\"font-family: 'Times New Roman'; font-size: 15px;\">(b) Create a Python code to print out the new list of strings named EUlist_2.</span>\n",
    "\n",
    "<span style=\"font-family: 'Times New Roman'; font-size: 15px;\">The output list is:</span></br>\n",
    "```python\n",
    "EUlist_2 = [['Austria', 'Belgium', 'Bulgaria', 'Croatia'],\n",
    "          ['Greece', 'Hungary', 'Ireland', 'Italy']]\n",
    "```\n",
    "<span style=\"font-family: 'Times New Roman'; font-size: 15px;\">(c) Create a Python code to print out the given EUlist to add a new countries list and give a suitable name.</span>\n",
    "\n",
    "<span style=\"font-family: 'Times New Roman'; font-size: 15px;\">The output list is:</span></br>\n",
    "```python\n",
    "           [['Austria', 'Belgium', 'Bulgaria', 'Croatia'],\n",
    "            ['Denmark', 'Finland', 'France', 'Germany'],\n",
    "            ['Greece', 'Hungary', 'Ireland', 'Italy'],\n",
    "            ['Poland', 'The Netherlands', 'Spain', 'Sweden']]\n",
    "```\n"
   ]
  },
  {
   "cell_type": "code",
   "execution_count": 26,
   "id": "c6d55a1a",
   "metadata": {},
   "outputs": [
    {
     "name": "stdout",
     "output_type": "stream",
     "text": [
      "EUlist_1 = \n",
      "['Austria', 'Belgium', 'Bulgaria', 'Croatia']\n",
      "['Denmark', 'Finland', 'France', 'Germany']\n",
      "['Greece', 'Hungary', 'Ireland', 'Italy']\n",
      "\n",
      "EUlist_2 = \n",
      "['Austria', 'Belgium', 'Bulgaria', 'Croatia']\n",
      "['Denmark', 'Finland', 'France', 'Germany']\n",
      "\n",
      "EUlist_3 = \n",
      "['Austria', 'Belgium', 'Bulgaria', 'Croatia']\n",
      "['Denmark', 'Finland', 'France', 'Germany']\n",
      "['Greece', 'Spain', 'Ireland', 'Italy']\n",
      "['Poland', 'The Netherlands', 'Spain', 'Sweden']\n"
     ]
    }
   ],
   "source": [
    "# Given EU countries list\n",
    "EUlist = [['Austria', 'Belgium', 'Bulgaria', 'Croatia'],\n",
    "          ['Denmark', 'Finland', 'France', 'Germany'],\n",
    "          ['Greece', 'Hungary', 'Ireland', 'Italy']]\n",
    "\n",
    "# (a) Print and Replace the string 'Hungary' with 'Spain'\n",
    "print(\"EUlist_1 = \")\n",
    "for row in EUlist:\n",
    "    print(row)\n",
    "\n",
    "for i in range(len(EUlist)):\n",
    "    for j in range(len(EUlist[i])):\n",
    "        if EUlist[i][j] == 'Hungary':\n",
    "            EUlist[i][j] = 'Spain'\n",
    "\n",
    "# (b) Create a new list of strings named EUlist_2\n",
    "EUlist_2 = [row for row in EUlist if 'Spain' not in row]\n",
    "\n",
    "print(\"\\nEUlist_2 = \")\n",
    "for row in EUlist_2:\n",
    "    print(row)\n",
    "\n",
    "# (c) Add a new countries list to the given EUlist\n",
    "new_countries_list = ['Poland', 'The Netherlands', 'Spain', 'Sweden']\n",
    "EUlist.append(new_countries_list)\n",
    "\n",
    "# Print out the updated EUlist as EUlist_3\n",
    "EUlist_3 = EUlist.copy()\n",
    "\n",
    "print(\"\\nEUlist_3 = \")\n",
    "for row in EUlist_3:\n",
    "    print(row)"
   ]
  },
  {
   "cell_type": "markdown",
   "id": "7dae33c3",
   "metadata": {},
   "source": [
    "<span style=\"font-family: 'Times New Roman'; font-weight: bold; font-size: 20px;\">2. You are given the table of Regional_township. Create a dictionary of tuples of strings in Python where the keys represent the region or state, and the values are tuple of townships. Then print out the keys in Regional_township.</span>\n",
    "<span style=\"font-family: 'Times New Roman'; font-size: 15px;\">(a) Print out the values in Regional_township.</span></br>\n",
    "<span style=\"font-family: 'Times New Roman'; font-size: 15px;\">(b) Print out the township of Mandalay.</span>\n",
    "\n",
    "<!-- Table -->\n",
    "<table style=\"font-family: 'Times New Roman'; font-size: 15px;\">\n",
    "  <thead>\n",
    "    <tr style=\"border-top: 1px solid black; background-color: #F7DC6F;\">\n",
    "      <th style=\"text-align: center; border: 1px solid black\">No</th>\n",
    "      <th style=\"text-align: center; border: 1px solid black\">Region or State</th>\n",
    "      <th colspan=\"4\" style=\"text-align: center; border: 1px solid black\">Regional Township</th>\n",
    "    </tr>\n",
    "  </thead>\n",
    "  <tbody>\n",
    "    <tr style=\"border-bottom: 1px solid black; background-color: #48C9B0;\">\n",
    "      <td style=\"text-align: center; border: 1px solid black\">1</td>\n",
    "      <td style=\"text-align: center; border: 1px solid black\">Yangon</td>\n",
    "      <td colspan=\"1\" style=\"text-align: center; border: 1px solid black\">North Dagon</td>\n",
    "      <td colspan=\"1\" style=\"text-align: center; border: 1px solid black\">South Dagon</td>\n",
    "      <td colspan=\"1\" style=\"text-align: center; border: 1px solid black\">LamMaTaw</td>\n",
    "      <td style=\"text-align: center; border: 1px solid black\">HleDan</td>\n",
    "    </tr>\n",
    "    <tr style=\"border-bottom: 1px solid black; background-color: #3498DB;\">\n",
    "      <td style=\"text-align: center; border: 1px solid black;\">2</td>\n",
    "      <td style=\"text-align: center; border: 1px solid black\">Mandalay</td>\n",
    "      <td colspan=\"1\" style=\"text-align: center; border: 1px solid black\">Amarapura</td>\n",
    "      <td colspan=\"1\" style=\"text-align: center; border: 1px solid black\">Pyin Oo Lwin</td>\n",
    "      <td colspan=\"1\" style=\"text-align: center; border: 1px solid black\">MatTaYar</td>\n",
    "      <td style=\"text-align: center; border: 1px solid black\">KyaukSe</td>\n",
    "    </tr>\n",
    "    <tr style=\"border-bottom: 1px solid black; background-color: #48C9B0;\">\n",
    "      <td style=\"text-align: center; border: 1px solid black\">3</td>\n",
    "      <td style=\"text-align: center; border: 1px solid black\">Magway</td>\n",
    "      <td colspan=\"1\" style=\"text-align: center; border: 1px solid black\">Minbu</td>\n",
    "      <td colspan=\"1\" style=\"text-align: center; border: 1px solid black\">MinHla</td>\n",
    "      <td colspan=\"1\" style=\"text-align: center; border: 1px solid black\">AungLan</td>\n",
    "      <td style=\"text-align: center; border: 1px solid black\">YenanChaung</td>\n",
    "    </tr>\n",
    "    <tr style=\"border-bottom: 1px solid black;  background-color: #3498DB;\">\n",
    "      <td style=\"text-align: center; border: 1px solid black\">4</td>\n",
    "      <td style=\"text-align: center; border: 1px solid black\">Shan</td>\n",
    "      <td colspan=\"1\" style=\"text-align: center; border: 1px solid black\">TaungGyi</td>\n",
    "      <td colspan=\"1\" style=\"text-align: center; border: 1px solid black\">Kalaw</td>\n",
    "      <td colspan=\"1\" style=\"text-align: center; border: 1px solid black\">PinLon</td>\n",
    "      <td style=\"text-align: center; border: 1px solid black\">Lashio</td>\n",
    "    </tr>\n",
    "  </tbody>\n",
    "</table>"
   ]
  },
  {
   "cell_type": "code",
   "execution_count": 20,
   "id": "b697999f",
   "metadata": {},
   "outputs": [
    {
     "name": "stdout",
     "output_type": "stream",
     "text": [
      "Keys in Regional_township:\n",
      "Yangon\n",
      "Mandalay\n",
      "Magway\n",
      "Shan\n",
      "\n",
      "Townships of Mandalay: ('Amarapura', 'Pyin Oo Lwin', 'MatTaYar', 'KyaukSe')\n"
     ]
    }
   ],
   "source": [
    "# Given table of Regional_township\n",
    "regional_township_table = [\n",
    "    (1, 'Yangon', 'North Dagon', 'South Dagon', 'LamMaTaw', 'HleDan'),\n",
    "    (2, 'Mandalay', 'Amarapura', 'Pyin Oo Lwin', 'MatTaYar', 'KyaukSe'),\n",
    "    (3, 'Magway', 'Minbu', 'MinHla', 'AungLan', 'YenanChaung'),\n",
    "    (4, 'Shan', 'TaungGyi', 'Kalaw', 'PinLon', 'Lasho')\n",
    "]\n",
    "\n",
    "# Create a dictionary of tuples\n",
    "regional_township_dict = {row[1]: tuple(row[2:]) for row in regional_township_table}\n",
    "\n",
    "# (a) Print out the keys in Regional_township\n",
    "print(\"Keys in Regional_township:\")\n",
    "for region in regional_township_dict.keys():\n",
    "    print(region)\n",
    "\n",
    "# (b) Print out the townships of Mandalay\n",
    "mandalay_townships = regional_township_dict.get('Mandalay', ())\n",
    "print(\"\\nTownships of Mandalay:\", mandalay_townships)"
   ]
  },
  {
   "cell_type": "markdown",
   "id": "c984a7c9",
   "metadata": {},
   "source": [
    "<span style=\"font-family: 'Times New Roman'; font-weight: bold; font-size: 20px;\">3. Write a Python program to print out the value of z. The values of x and y are 5 and 2.</span>  \n",
    "<br> \n",
    "<div style=\"text-align: center;\">\n",
    "<span style=\"font-family: 'Times New Roman'; font-size: 15px;\">\n",
    "$$\n",
    "z = \\left[ \\frac{{x^2 - y^2}}{{xy}} \\right]^2 + 50 \\left[ \\frac{{(5 - 2y)^2}}{{x + y}} \\right] + \\left[ \\frac{{6xy^2 - 2y}}{{y^3 - 3}} \\right]\n",
    "$$\n",
    "</span>\n",
    "\n",
    "</div>"
   ]
  },
  {
   "cell_type": "code",
   "execution_count": 29,
   "id": "f4c72774",
   "metadata": {},
   "outputs": [
    {
     "name": "stdout",
     "output_type": "stream",
     "text": [
      "The value of z: 34.753\n"
     ]
    }
   ],
   "source": [
    "# Given values of x and y\n",
    "x = 5\n",
    "y = 2\n",
    "\n",
    "# Calculate the value of z\n",
    "z = ((x**2 - y**2) / (x * y))**2 + 50 * ((5 - 2 * y)**2 / (x + y)) + ((6 * x * y**2) - 2 * y) / (y**3 - 3)\n",
    "\n",
    "# Print the result with 3 decimal places using string formatting\n",
    "print(\"The value of z: {:.3f}\".format(z))"
   ]
  },
  {
   "cell_type": "markdown",
   "id": "ddcb2bf5",
   "metadata": {},
   "source": [
    "<span style=\"font-family: 'Times New Roman'; font-weight: bold; font-size: 20px;\">4. You are given a list of integers.</span>\n",
    "```python\n",
    "\tNum = [1, -2, 3, 0, 24, 100, 92]\n",
    "```\n",
    "<span style=\"font-family: 'Times New Roman'; font-size: 15px;\">(a) Index and print out the last element of 92.</span></br>  \n",
    "<span style=\"font-family: 'Times New Roman'; font-size: 15px;\">(b) Index and print out to get the output **Num1**:</span>\n",
    "```python\n",
    "    Num1 = [1, 3, 24, 92]\n",
    "```"
   ]
  },
  {
   "cell_type": "code",
   "execution_count": 18,
   "id": "3411caf9",
   "metadata": {},
   "outputs": [
    {
     "name": "stdout",
     "output_type": "stream",
     "text": [
      "Index of the last number: 6\n",
      "Last element of Num: 92\n",
      "Num1 = [1, 3, 24, 92]\n"
     ]
    }
   ],
   "source": [
    "# Given list of integers\n",
    "Num = [1, -2, 3, 0, 24, 100, 92]\n",
    "\n",
    "# (a) Index and print out the last element\n",
    "last_number_index = len(Num) - 1\n",
    "last_element = Num[-1]\n",
    "print(\"Index of the last number:\", last_number_index)\n",
    "print(\"Last element of Num:\", last_element)\n",
    "\n",
    "# (b) Index and print out to get the output Num1\n",
    "Num1_indices = [0, 2, 4, 6]\n",
    "Num1 = [Num[i] for i in Num1_indices]\n",
    "print(\"Num1 =\", Num1)"
   ]
  }
 ],
 "metadata": {
  "kernelspec": {
   "display_name": "Python 3 (ipykernel)",
   "language": "python",
   "name": "python3"
  },
  "language_info": {
   "codemirror_mode": {
    "name": "ipython",
    "version": 3
   },
   "file_extension": ".py",
   "mimetype": "text/x-python",
   "name": "python",
   "nbconvert_exporter": "python",
   "pygments_lexer": "ipython3",
   "version": "3.11.5"
  }
 },
 "nbformat": 4,
 "nbformat_minor": 5
}
