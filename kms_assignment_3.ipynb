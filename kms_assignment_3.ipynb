{
 "cells": [
  {
   "cell_type": "markdown",
   "id": "bb0dd9b0",
   "metadata": {},
   "source": [
    "<div style=\"text-align:center; font-weight: bold; font-size: 25px; font-family: 'Times New Roman', Times, serif;\"><span style=\"border-bottom: 3px double black;\">Assignment III</span></div>\n",
    "\n",
    "<span style=\"font-family: 'Times New Roman'; font-weight: bold; font-size: 20px;\">1. You are given a list of fruits, and you task is to categorize these fruits into separate lists based on their types (e.g., tropical fruits, cold climate fruits,  citrus fruits, etc.). Implement a Python program using a for loop to achieve this categorization and print the categorized fruits.</span>\n",
    "\n",
    "```python\n",
    "    fruitList = [[“mango”, “papaya”, “durian”, “pineapple”],\n",
    "\t\t       [“kiwi”, “cherry”, “black currant”, “strawberry”],\n",
    "\t\t       [“lemon”, “lime”, “sunkist”]]\n",
    "\tfruitType = [“Tropical fruit”, “Cold Climate fruit”, “Citrus Fruit”]\n",
    "```\n",
    "\n",
    "<span style=\"font-family: 'Times New Roman'; font-size: 15px;\">Your code should give the output as both a List and a Dictionary as follows:</span><br>\n",
    "```python\n",
    "    fruitList2 = [“Tropical fruit”,\n",
    "                    [“mango”, “papaya”, “durian”, “pineapple”],\n",
    "                    “Cold Climate fruit”,\n",
    "                    [“kiwi”, “cherry”, “black currant”, “strawberry”],\n",
    "                    “Citrus Fruit”,\n",
    "                    [“lemon”, “lime”, “sunkist\"]]\n",
    "    fruitDict = {“Tropical fruit”: [“mango”, “papaya”, “durian”, “pineapple”],\n",
    "                    “Cold Climate fruit”: [“kiwi”, “cherry”, “black currant”, “strawberry”],\n",
    "                    “Citrus Fruit”: [“lemon”, “lime”, “sunkist”]}\n",
    "```"
   ]
  },
  {
   "cell_type": "code",
   "execution_count": 3,
   "id": "c3631fc4",
   "metadata": {},
   "outputs": [
    {
     "name": "stdout",
     "output_type": "stream",
     "text": [
      "fruitList2 = \n",
      "['Tropical fruit', ['mango', 'papaya', 'durian', 'pineapple'], 'Cold Climate fruit', ['kiwi', 'cherry', 'black currant', 'strawberry'], 'Citrus Fruit', ['lemon', 'lime', 'sunkist']]\n",
      "\n",
      "fruitDict = \n",
      "{'Tropical fruit': ['mango', 'papaya', 'durian', 'pineapple'], 'Cold Climate fruit': ['kiwi', 'cherry', 'black currant', 'strawberry'], 'Citrus Fruit': ['lemon', 'lime', 'sunkist']}\n"
     ]
    }
   ],
   "source": [
    "fruitList = [[\"mango\", \"papaya\", \"durian\", \"pineapple\"],\n",
    "             [\"kiwi\", \"cherry\", \"black currant\", \"strawberry\"],\n",
    "             [\"lemon\", \"lime\", \"sunkist\"]]\n",
    "fruitType = [\"Tropical fruit\", \"Cold Climate fruit\", \"Citrus Fruit\"]\n",
    "\n",
    "fruitList2 = []\n",
    "fruitDict = {}\n",
    "\n",
    "# Categorize the fruits\n",
    "for i in range(len(fruitType)):\n",
    "    fruit_category = fruitType[i]\n",
    "    fruits_in_category = fruitList[i]\n",
    "\n",
    "    # Append to the combined list\n",
    "    fruitList2.append(fruit_category)\n",
    "    fruitList2.append(fruits_in_category)\n",
    "\n",
    "    # Create the dictionary entry\n",
    "    fruitDict[fruit_category] = fruits_in_category\n",
    "\n",
    "# Print the output as a List\n",
    "print(\"fruitList2 = \")\n",
    "print(fruitList2)\n",
    "\n",
    "# Print the output as a Dictionary\n",
    "print(\"\\nfruitDict = \")\n",
    "print(fruitDict)"
   ]
  },
  {
   "cell_type": "markdown",
   "id": "b192069a",
   "metadata": {},
   "source": [
    "<hr style = \"border: 0.5px solid black;\">"
   ]
  },
  {
   "cell_type": "markdown",
   "id": "586dfc7e",
   "metadata": {},
   "source": [
    "<span style=\"font-family: 'Times New Roman'; font-weight: bold; font-size: 20px;\">2. Write a Python program to unpack a given dictionary.</span>\n",
    "```python\n",
    "\tStudent_Biography = {\n",
    "\t\t\t          ‘Name’: ‘Emma’,\n",
    "\t\t\t          ‘Age’: 18,\n",
    "\t\t\t          ‘Blood Type’: ‘B’,\n",
    "\t\t\t          ‘Subject’: ‘Maths’,\n",
    "\t\t\t          ‘Hobby’: ‘Hiking’\n",
    "\t\t\t        }\n",
    "```\n",
    "<span style=\"font-family: 'Times New Roman'; font-size: 15px;\">&nbsp;&nbsp;&nbsp;&nbsp;&nbsp;&nbsp;&nbsp;&nbsp;&nbsp;&nbsp;&nbsp;&nbsp;&nbsp;&nbsp;&nbsp;&nbsp;The output is:</span><br>\n",
    "```python\n",
    "\tStudent_Biography is\n",
    "\t\tName : Emma\n",
    "\t\tAge : 18\n",
    "\t\tBlood Type : B\n",
    "\t\tSubject : Maths\n",
    "\t\tHobby : Hiking\n",
    "```"
   ]
  },
  {
   "cell_type": "code",
   "execution_count": 11,
   "id": "d5dc5dec",
   "metadata": {},
   "outputs": [
    {
     "name": "stdout",
     "output_type": "stream",
     "text": [
      "Student_Biography is\n",
      "\tName : Emma\n",
      "\tAge : 18\n",
      "\tBlood Type : B\n",
      "\tSubject : Maths\n",
      "\tHobby : Hiking\n"
     ]
    }
   ],
   "source": [
    "Student_Biography = {\n",
    "    'Name': 'Emma',\n",
    "    'Age': 18,\n",
    "    'Blood Type': 'B',\n",
    "    'Subject': 'Maths',\n",
    "    'Hobby': 'Hiking'\n",
    "}\n",
    "\n",
    "print(\"Student_Biography is\")\n",
    "for key, value in Student_Biography.items():\n",
    "    print(f\"\\t{key} : {value}\")"
   ]
  },
  {
   "cell_type": "markdown",
   "id": "847fe338",
   "metadata": {},
   "source": [
    "<hr style = \"border: 0.5px solid black;\">"
   ]
  },
  {
   "cell_type": "markdown",
   "id": "f9afe59c",
   "metadata": {},
   "source": [
    "<span style=\"font-family: 'Times New Roman'; font-weight: bold; font-size: 20px;\">\n",
    "3. The factorial of a non-negative integer n is typically denoted as “n!” and is defined as the product of all positive integers from 1 to n. Use this to calculate the factorial of a number taken as user input. Write a Python program to print out the factorial mathematically as:\n",
    "</span><br><br>\n",
    "\n",
    "<span style=\"font-family: 'Times New Roman'; font-size: 20px;\">\n",
    "$$\n",
    "n! = 1 \\times 2 \\times 3 \\times \\ldots \\times n\n",
    "$$\n",
    "</span>"
   ]
  },
  {
   "cell_type": "code",
   "execution_count": 10,
   "id": "6329030e",
   "metadata": {},
   "outputs": [
    {
     "name": "stdout",
     "output_type": "stream",
     "text": [
      "Enter a non-negative integer: 15\n",
      "15! = 1307674368000\n"
     ]
    }
   ],
   "source": [
    "def calculate_factorial(n):\n",
    "    if n < 0:\n",
    "        return \"Factorial is undefined for negative numbers.\"\n",
    "    elif n == 0:\n",
    "        return 1\n",
    "    else:\n",
    "        result = 1\n",
    "        for i in range(1, n + 1):\n",
    "            result *= i\n",
    "        return result\n",
    "\n",
    "# Take user input for the number\n",
    "user_input = input(\"Enter a non-negative integer: \")\n",
    "\n",
    "try:\n",
    "    n = int(user_input)\n",
    "    factorial_result = calculate_factorial(n)\n",
    "    print(f\"{n}! = {factorial_result}\")\n",
    "except ValueError:\n",
    "    print(\"Invalid input. Please enter a valid integer.\")"
   ]
  },
  {
   "cell_type": "markdown",
   "id": "0c2adc47",
   "metadata": {},
   "source": [
    "<hr style = \"border: 0.5px solid black;\">"
   ]
  },
  {
   "cell_type": "markdown",
   "id": "37bbd842",
   "metadata": {},
   "source": [
    "<span style=\"font-family: 'Times New Roman'; font-weight: bold; font-size: 20px;\">\n",
    "4. Check, using a suitable string method, if the given string is alphanumeric or not.\n",
    "</span><br>\n",
    "\n",
    "<span style=\"font-family: 'Consolas'; font-size: 15px;\">\n",
    "&nbsp;&nbsp;&nbsp;&nbsp;Mystr = “Ihave500Dollars” <br>\n",
    "&nbsp;&nbsp;&nbsp;&nbsp;Mystr2 = “500$”\n",
    "</span>"
   ]
  },
  {
   "cell_type": "code",
   "execution_count": 6,
   "id": "7343aa71",
   "metadata": {},
   "outputs": [
    {
     "name": "stdout",
     "output_type": "stream",
     "text": [
      "Is Mystr alphanumeric? Yes\n",
      "Is Mystr2 alphanumeric? No\n"
     ]
    }
   ],
   "source": [
    "Mystr = \"Ihave500Dollars\"\n",
    "Mystr2 = \"500$\"\n",
    "\n",
    "# Check if Mystr is alphanumeric\n",
    "is_alphanumeric_mystr = Mystr.isalnum()\n",
    "\n",
    "# Check if Mystr2 is alphanumeric\n",
    "is_alphanumeric_mystr2 = Mystr2.isalnum()\n",
    "\n",
    "# Print the results\n",
    "print(f\"Is Mystr alphanumeric? {'Yes' if is_alphanumeric_mystr else 'No'}\")\n",
    "print(f\"Is Mystr2 alphanumeric? {'Yes' if is_alphanumeric_mystr2 else 'No'}\")"
   ]
  },
  {
   "cell_type": "markdown",
   "id": "a00e1019",
   "metadata": {},
   "source": [
    "<hr style = \"border: 0.5px solid black;\">"
   ]
  },
  {
   "cell_type": "markdown",
   "id": "c61cc157",
   "metadata": {},
   "source": [
    "<span style=\"font-family: 'Times New Roman'; font-weight: bold; font-size: 20px;\">\n",
    "5. Print out the total numbers of string letters “e” in a string BioTech using <i>count</i> method and check if the string is printable or not.\n",
    "</span><br><br>\n",
    "\n",
    "<span style=\"font-family: 'Times New Roman'; font-size: 15px;\">\n",
    "&nbsp;&nbsp;&nbsp;&nbsp;&nbsp;&nbsp;BioTech = “Biotechnology is a branch of applied biology which combines biological sciences with engineering technologies.”\n",
    "</span>"
   ]
  },
  {
   "cell_type": "code",
   "execution_count": 5,
   "id": "baa04298",
   "metadata": {},
   "outputs": [
    {
     "name": "stdout",
     "output_type": "stream",
     "text": [
      "Total occurrences of 'e': 10\n",
      "Is the string printable? Yes\n"
     ]
    }
   ],
   "source": [
    "BioTech = \"Biotechnology is a branch of applied biology which combines biological sciences with engineering technologies.\"\n",
    "\n",
    "# Count the occurrences of the letter 'e'\n",
    "count_e = BioTech.lower().count('e')\n",
    "\n",
    "# Check if the string is printable\n",
    "is_printable = all(ch.isprintable() for ch in BioTech)\n",
    "\n",
    "# Print the results\n",
    "print(f\"Total occurrences of 'e': {count_e}\")\n",
    "print(f\"Is the string printable? {'Yes' if is_printable else 'No'}\")"
   ]
  },
  {
   "cell_type": "markdown",
   "id": "c9aada76",
   "metadata": {},
   "source": [
    "<hr style = \"border: 0.5px solid black;\">"
   ]
  },
  {
   "cell_type": "markdown",
   "id": "ca30a311",
   "metadata": {},
   "source": [
    "<span style=\"font-family: 'Times New Roman'; font-weight: bold; font-size: 20px;\">\n",
    "6. Print out the given output as a List using a nested for loop. Your code should also work for any number of repetition.\n",
    "</span><br>\n",
    "\n",
    "<span style=\"font-family: 'Times New Roman'; font-size: 15px;\">\n",
    "The result is:\n",
    "</span>\n",
    "\n",
    "```python\n",
    "\t\t1     2     3     4     5\n",
    "\t\t2     4     6     8     10\n",
    "\t\t3     6     9     12    15\n",
    "\t\t4     8     12    16    20\n",
    "\t\t5     10    15    20    25\n",
    "\t\t..........................\n",
    "        ..........................\n",
    "\t\tn*1   n*2   n*3 ....... n*5 \n",
    "```"
   ]
  },
  {
   "cell_type": "code",
   "execution_count": 4,
   "id": "02189846",
   "metadata": {},
   "outputs": [
    {
     "name": "stdout",
     "output_type": "stream",
     "text": [
      "1\t2\t3\t4\t5\n",
      "2\t4\t6\t8\t10\n",
      "3\t6\t9\t12\t15\n",
      "4\t8\t12\t16\t20\n",
      "5\t10\t15\t20\t25\n",
      "6\t12\t18\t24\t30\n",
      "7\t14\t21\t28\t35\n"
     ]
    }
   ],
   "source": [
    "def print_matrix(n):\n",
    "    for i in range(1, n + 1):\n",
    "        row = [i * j for j in range(1, 6)]\n",
    "        print(\"\\t\".join(map(str, row)))\n",
    "\n",
    "print_matrix(7)"
   ]
  },
  {
   "cell_type": "markdown",
   "id": "bf157712",
   "metadata": {},
   "source": [
    "<hr style = \"border: 0.5px solid black;\">"
   ]
  }
 ],
 "metadata": {
  "kernelspec": {
   "display_name": "Python 3 (ipykernel)",
   "language": "python",
   "name": "python3"
  },
  "language_info": {
   "codemirror_mode": {
    "name": "ipython",
    "version": 3
   },
   "file_extension": ".py",
   "mimetype": "text/x-python",
   "name": "python",
   "nbconvert_exporter": "python",
   "pygments_lexer": "ipython3",
   "version": "3.11.5"
  }
 },
 "nbformat": 4,
 "nbformat_minor": 5
}
