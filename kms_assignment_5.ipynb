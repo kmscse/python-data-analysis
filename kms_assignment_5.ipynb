{
 "cells": [
  {
   "cell_type": "markdown",
   "id": "d686208c",
   "metadata": {},
   "source": [
    "<div style=\"text-align:center; font-weight: bold; font-size: 25px; font-family: 'Times New Roman', Times, serif;\"><span style=\"border-bottom: 3px double black;\">Assignment V</span></div><br>\n",
    "\n",
    "<span style=\"font-family: 'Times New Roman'; font-weight: bold; font-size: 20px;\">\n",
    "1. You are given a 4x4 matrix named P as follows:\n",
    "</span><br><br>\n",
    "\n",
    "$$\n",
    "P = \\begin{bmatrix}\n",
    "3 & -8 & 10 & 5 \\\\\n",
    "9 & 7 & 12 & 30 \\\\\n",
    "54 & 0 & 6 & -13 \\\\\n",
    "1 & 78 & 2 & 25 \\\\\n",
    "\\end{bmatrix}\n",
    "$$\n",
    "<br>\n",
    "<span style=\"font-family: 'Times New Roman'; font-size: 18px;\">\n",
    "(a) Print out the elements which are greater than 9 using “where” method in Numpy module.\n",
    "</span>"
   ]
  },
  {
   "cell_type": "code",
   "execution_count": 1,
   "id": "9e67344e",
   "metadata": {},
   "outputs": [
    {
     "name": "stdout",
     "output_type": "stream",
     "text": [
      "Elements greater than 9:\n",
      "Element at position (0, 2): 10\n",
      "Element at position (1, 2): 12\n",
      "Element at position (1, 3): 30\n",
      "Element at position (2, 0): 54\n",
      "Element at position (3, 1): 78\n",
      "Element at position (3, 3): 25\n"
     ]
    }
   ],
   "source": [
    "import numpy as np\n",
    "\n",
    "# Given 4x4 matrix P\n",
    "P = np.array([[3, -8, 10, 5],\n",
    "              [9, 7, 12, 30],\n",
    "              [54, 0, 6, -13],\n",
    "              [1, 78, 2, 25]])\n",
    "\n",
    "# Print elements greater than 9 using \"where\" method\n",
    "result = np.where(P > 9)\n",
    "print(\"Elements greater than 9:\")\n",
    "for i in range(len(result[0])):\n",
    "    print(f\"Element at position ({result[0][i]}, {result[1][i]}): {P[result[0][i], result[1][i]]}\")"
   ]
  },
  {
   "cell_type": "markdown",
   "id": "ac83e76f",
   "metadata": {},
   "source": [
    "<hr style = \"border: 0.5px solid black;\">"
   ]
  },
  {
   "cell_type": "markdown",
   "id": "f94af2e6",
   "metadata": {},
   "source": [
    "<span style=\"font-family: 'Times New Roman'; font-weight: bold; font-size: 20px;\">\n",
    "2. You are given a 3 Dimensional matrix named A as follows:\n",
    "</span><br><br>\n",
    "\n",
    "$$\n",
    "A = \\begin{bmatrix}\n",
    "\\begin{bmatrix}\n",
    "0 & \\color{red}{-23} & \\color{red}{4} & 67 \\\\\n",
    "3 & \\color{red}{5} & \\color{red}{9} & 1 \\\\\n",
    "7 & \\color{red}{3} & \\color{red}{-12} & 4 \\\\\n",
    "3 & \\color{red}{0} & \\color{red}{-6} & 1 \\\\\n",
    "9 & \\color{red}{7} & \\color{red}{6} & 4 \\\\\n",
    "\\end{bmatrix} \\\\\n",
    "\\begin{bmatrix}\n",
    "5 & 3 & 0 & -9 \\\\\n",
    "2 & 8 & 7 & 13 \\\\\n",
    "-7 & 14 & 8 & 4 \\\\\n",
    "\\color{blue}{19} & \\color{blue}{-5} & \\color{blue}{35} & \\color{blue}{-18} \\\\\n",
    "\\color{blue}{16} & \\color{blue}{23} & \\color{blue}{90} & \\color{blue}{1} \\\\\n",
    "\\end{bmatrix} \\\\\n",
    "\\begin{bmatrix}\n",
    "10 & 20 & 62 & 34 \\\\\n",
    "-45 & 13 & 42 & 32 \\\\\n",
    "33 & 76 & 39 & 22 \\\\\n",
    "\\color{blue}{78} & \\color{blue}{46} & \\color{blue}{12} & \\color{blue}{18} \\\\\n",
    "\\color{blue}{55} & \\color{blue}{26} & \\color{blue}{68} & \\color{blue}{45} \\\\\n",
    "\\end{bmatrix}\n",
    "\\end{bmatrix}\n",
    "$$\n",
    "<br>\n",
    "<span style=\"font-family: 'Times New Roman'; font-size: 18px;\">\n",
    "&nbsp;&nbsp;&nbsp;(a) Provide a Python script to construct a given 3 Dimensional A matrix.\n",
    "</span><br>\n",
    "<span style=\"font-family: 'Times New Roman'; font-size: 18px;\">\n",
    "&nbsp;&nbsp;&nbsp;(b) Write a program to create a matrix named B for the elements in the red block of given matrix A.\n",
    "</span><br>\n",
    "<span style=\"font-family: 'Times New Roman'; font-size: 18px;\">\n",
    "&nbsp;&nbsp;&nbsp;(c) Write a program to create a matrix named C for the elements in the blue block of given matrix A.\n",
    "</span>"
   ]
  },
  {
   "cell_type": "code",
   "execution_count": 4,
   "id": "b32af494",
   "metadata": {},
   "outputs": [
    {
     "name": "stdout",
     "output_type": "stream",
     "text": [
      "Matrix A:\n",
      "[[[[  0 -23   4  67]\n",
      "   [  3   5   9   1]\n",
      "   [  7   3 -12   4]\n",
      "   [  3   0  -6   1]\n",
      "   [  9   7   6   4]]\n",
      "\n",
      "  [[  5   3   0  -9]\n",
      "   [  2   8   7  13]\n",
      "   [ -7  14   8   4]\n",
      "   [ 19  -5  35 -18]\n",
      "   [ 16  23  90   1]]\n",
      "\n",
      "  [[ 10  20  62  34]\n",
      "   [-45  13  42  32]\n",
      "   [ 33  76  39  22]\n",
      "   [ 78  46  12  18]\n",
      "   [ 55  26  68  45]]]]\n",
      "\n",
      "Matrix B:\n",
      "[[[-23   4]\n",
      "  [  5   9]\n",
      "  [  3 -12]\n",
      "  [  0  -6]\n",
      "  [  7   6]]]\n",
      "\n",
      "Matrix C:\n",
      "[[[[ 19  -5  35 -18]\n",
      "   [ 16  23  90   1]]\n",
      "\n",
      "  [[ 78  46  12  18]\n",
      "   [ 55  26  68  45]]]]\n"
     ]
    }
   ],
   "source": [
    "import numpy as np\n",
    "\n",
    "# Function to construct the given 3-dimensional matrix A using NumPy\n",
    "def construct_matrix():\n",
    "    A = np.array([\n",
    "        [\n",
    "            np.array([0, -23, 4, 67, 3, 5, 9, 1, 7, 3, -12, 4, 3, 0, -6, 1, 9, 7, 6, 4]).reshape(5, 4),\n",
    "            np.array([5, 3, 0, -9, 2, 8, 7, 13, -7, 14, 8, 4, 19, -5, 35, -18, 16, 23, 90, 1]).reshape(5, 4),\n",
    "            np.array([10, 20, 62, 34, -45, 13, 42, 32, 33, 76, 39, 22, 78, 46, 12, 18, 55, 26, 68, 45]).reshape(5, 4),\n",
    "        ]\n",
    "    ])\n",
    "    return A\n",
    "\n",
    "# Function to create a new matrix B for the elements in the red block of given matrix A.\n",
    "def create_matrix_B(matrix_A):\n",
    "    B = matrix_A[:, 0, :, 1:3]\n",
    "    return B\n",
    "\n",
    "# Function to create a new matrix C for the elements in the blue block of given matrix A.\n",
    "def create_matrix_C(matrix_A):\n",
    "    C = matrix_A[:, 1:, 3:5, :]\n",
    "    return C\n",
    "\n",
    "\n",
    "matrix_A = construct_matrix()\n",
    "matrix_B = create_matrix_B(matrix_A)\n",
    "matrix_C = create_matrix_C(matrix_A)\n",
    "\n",
    "# Display the matrices\n",
    "print(\"Matrix A:\")\n",
    "print(matrix_A)\n",
    "\n",
    "print(\"\\nMatrix B:\")\n",
    "print(matrix_B)\n",
    "\n",
    "print(\"\\nMatrix C:\")\n",
    "print(matrix_C)"
   ]
  },
  {
   "cell_type": "markdown",
   "id": "f7a87a64",
   "metadata": {},
   "source": [
    "<hr style = \"border: 0.5px solid black;\">"
   ]
  },
  {
   "cell_type": "markdown",
   "id": "fde89246",
   "metadata": {},
   "source": [
    "<span style=\"font-family: 'Times New Roman'; font-weight: bold; font-size: 20px;\">\n",
    "3. (a) Generate a 3D Numpy array of matrix shape (2,4,4) with random integers between 0 and 50. <br><br>\n",
    "(b) Create a Python program to print out the Diagonal Toeplitz Matrix.\n",
    "</span><br><br>\n",
    "\n",
    "<span style=\"font-family: 'Times New Roman'; font-size: 18px;\">\n",
    "The output matrix is:\n",
    "</span><br>\n",
    "\n",
    "$$\n",
    "\\begin{bmatrix}\n",
    "13 & 20 & 0 & 0 & 0 & 0 \\\\\n",
    "5 & 13 & 20 & 0 & 0 & 0 \\\\\n",
    "0 & 5 & 13 & 20 & 0 & 0 \\\\\n",
    "0 & 0 & 5 & 13 & 20 & 0 \\\\\n",
    "0 & 0 & 0 & 5 & 13 & 20 \\\\\n",
    "0 & 0 & 0 & 0 & 5 & 13 \\\\\n",
    "\\end{bmatrix}\n",
    "$$\n"
   ]
  },
  {
   "cell_type": "code",
   "execution_count": 10,
   "id": "aba4d7fb",
   "metadata": {},
   "outputs": [
    {
     "name": "stdout",
     "output_type": "stream",
     "text": [
      "Generated 3D Numpy array:\n",
      "[[[25  4  8 29]\n",
      "  [43 15 49 21]\n",
      "  [28  2 43 19]\n",
      "  [11 28  0 23]]\n",
      "\n",
      " [[36  3 39 14]\n",
      "  [ 1 16 27  3]\n",
      "  [40 13 35 27]\n",
      "  [27 14 25 13]]]\n",
      "\n",
      "Diagonal Toeplitz Matrix:\n",
      "[[[25  4  8 29]\n",
      "  [43 15 49 21]\n",
      "  [28  2 43 19]\n",
      "  [11 28  0 23]]\n",
      "\n",
      " [[36  3 39 14]\n",
      "  [ 1 16 27  3]\n",
      "  [40 13 35 27]\n",
      "  [27 14 25 13]]]\n"
     ]
    }
   ],
   "source": [
    "import numpy as np\n",
    "\n",
    "# (a) Generate a 3D Numpy array of matrix shape (2, 4, 4) with random integers between 0 and 50\n",
    "random_array = np.random.randint(0, 51, size=(2, 4, 4))\n",
    "\n",
    "# Display the generated 3D Numpy array\n",
    "print(\"Generated 3D Numpy array:\")\n",
    "print(random_array)\n",
    "\n",
    "# (b) Create a Python program to print out the Diagonal Toeplitz Matrix\n",
    "diagonal_toeplitz_matrix = np.zeros_like(random_array)\n",
    "\n",
    "for i in range(random_array.shape[0]):\n",
    "    for j in range(random_array.shape[1]):\n",
    "        diagonal_toeplitz_matrix[i, j, :] = np.concatenate(\n",
    "            [random_array[i, j, :], np.zeros(random_array.shape[2] - 4)])\n",
    "\n",
    "# Display the Diagonal Toeplitz Matrix\n",
    "print(\"\\nDiagonal Toeplitz Matrix:\")\n",
    "print(diagonal_toeplitz_matrix)\n"
   ]
  },
  {
   "cell_type": "markdown",
   "id": "9bcdbd6c",
   "metadata": {},
   "source": [
    "<hr style = \"border: 0.5px solid black;\">"
   ]
  },
  {
   "cell_type": "markdown",
   "id": "bdd314c9",
   "metadata": {},
   "source": [
    "<span style=\"font-family: 'Times New Roman'; font-weight: bold; font-size: 20px;\">\n",
    "4. You are given a 4 x 4 matrix and represent as a Numpy array in Python.\n",
    "</span><br><br>\n",
    "\n",
    "$$\n",
    "M = \\begin{bmatrix}\n",
    "8 & 4 & -5 & 10 \\\\\n",
    "0 & 12 & 9 & -3 \\\\\n",
    "6 & 32 & 2 & 1 \\\\\n",
    "5 & 7 & 3 & 11 \\\\\n",
    "\\end{bmatrix}\n",
    "$$\n",
    "<br>\n",
    "\n",
    "<span style=\"font-family: 'Times New Roman'; font-size: 18px;\">\n",
    "&nbsp;&nbsp;&nbsp;(a) Print out the index of elements in column major of the given matrix using argsort function in Numpy module.\n",
    "</span><br>\n",
    "<span style=\"font-family: 'Times New Roman'; font-size: 18px;\">\n",
    "&nbsp;&nbsp;&nbsp;(b) Concatenate the matrix N to the given matrix M along the appropriate axis to form a new matrix.\n",
    "</span><br>\n",
    "\n",
    "$$\n",
    "N = \\begin{bmatrix}\n",
    "2 & -5 \\\\\n",
    "8 & 23 \\\\\n",
    "34 & 0 \\\\\n",
    "-1 & 6 \\\\\n",
    "\\end{bmatrix}\n",
    "$$\n",
    "\n"
   ]
  },
  {
   "cell_type": "code",
   "execution_count": 11,
   "id": "48fc9f0f",
   "metadata": {},
   "outputs": [
    {
     "name": "stdout",
     "output_type": "stream",
     "text": [
      "Column Major Indices:\n",
      "[ 2  7  4 11 10 14  1 12  8 13  0  6  3 15  5  9]\n",
      "\n",
      "New Matrix (Concatenated along columns):\n",
      "[[ 8  4 -5 10  2 -5]\n",
      " [ 0 12  9 -3  8 23]\n",
      " [ 6 32  2  1 34  0]\n",
      " [ 5  7  3 11 -1  6]]\n"
     ]
    }
   ],
   "source": [
    "import numpy as np\n",
    "\n",
    "# Given 4x4 matrix M\n",
    "M = np.array([[8, 4, -5, 10],\n",
    "              [0, 12, 9, -3],\n",
    "              [6, 32, 2, 1],\n",
    "              [5, 7, 3, 11]])\n",
    "\n",
    "# (a) Print out the index of elements in column major using argsort\n",
    "column_major_indices = np.argsort(M, axis=None)\n",
    "\n",
    "# Display the column major indices\n",
    "print(\"Column Major Indices:\")\n",
    "print(column_major_indices)\n",
    "\n",
    "# (b) Concatenate matrix N to matrix M along the appropriate axis\n",
    "N = np.array([[2, -5],\n",
    "              [8, 23],\n",
    "              [34, 0],\n",
    "              [-1, 6]])\n",
    "\n",
    "# Concatenate matrices M and N along axis 1 (columns) to form a new matrix\n",
    "new_matrix = np.concatenate((M, N), axis=1)\n",
    "\n",
    "# Display the new matrix\n",
    "print(\"\\nNew Matrix (Concatenated along columns):\")\n",
    "print(new_matrix)"
   ]
  },
  {
   "cell_type": "markdown",
   "id": "04efe1fe",
   "metadata": {},
   "source": [
    "<hr style = \"border: 0.5px solid black;\">"
   ]
  },
  {
   "cell_type": "markdown",
   "id": "80897274",
   "metadata": {},
   "source": [
    "<span style=\"font-family: 'Times New Roman'; font-weight: bold; font-size: 20px;\">\n",
    "5. Write a Python program that calculates and prints the following values for the number 25, each rounded to three decimal places:\n",
    "</span><br><br>\n",
    "\n",
    "<span style=\"font-family: 'Times New Roman'; font-size: 18px;\">\n",
    "&nbsp;&nbsp;&nbsp;(a) The base-10 logarithm (log<sub>10</sub>) of 25.\n",
    "</span><br>\n",
    "<span style=\"font-family: 'Times New Roman'; font-size: 18px;\">\n",
    "&nbsp;&nbsp;&nbsp;(b) The exponential function (exp) of 25.\n",
    "</span>"
   ]
  },
  {
   "cell_type": "code",
   "execution_count": 12,
   "id": "0b853857",
   "metadata": {},
   "outputs": [
    {
     "name": "stdout",
     "output_type": "stream",
     "text": [
      "The base-10 logarithm (log10) of 25 is: 1.398\n",
      "The exponential function (exp) of 25 is: 72004899337.386\n"
     ]
    }
   ],
   "source": [
    "import math\n",
    "\n",
    "# Given number in question\n",
    "number = 25\n",
    "\n",
    "# (a) Calculate and print the base-10 logarithm (log10) of 25\n",
    "log10_result = round(math.log10(number), 3)\n",
    "print(f\"The base-10 logarithm (log10) of {number} is: {log10_result}\")\n",
    "\n",
    "# (b) Calculate and print the exponential function (exp) of 25\n",
    "exp_result = round(math.exp(number), 3)\n",
    "print(f\"The exponential function (exp) of {number} is: {exp_result}\")"
   ]
  },
  {
   "cell_type": "markdown",
   "id": "7c55dcb0",
   "metadata": {},
   "source": [
    "<hr style = \"border: 0.5px solid black;\">"
   ]
  }
 ],
 "metadata": {
  "kernelspec": {
   "display_name": "Python 3 (ipykernel)",
   "language": "python",
   "name": "python3"
  },
  "language_info": {
   "codemirror_mode": {
    "name": "ipython",
    "version": 3
   },
   "file_extension": ".py",
   "mimetype": "text/x-python",
   "name": "python",
   "nbconvert_exporter": "python",
   "pygments_lexer": "ipython3",
   "version": "3.11.5"
  }
 },
 "nbformat": 4,
 "nbformat_minor": 5
}
